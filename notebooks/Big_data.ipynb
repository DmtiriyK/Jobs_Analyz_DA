{
 "cells": [
  {
   "cell_type": "code",
   "execution_count": 5,
   "id": "34d6a756-1625-4be9-ac66-6a9c05f5ca3b",
   "metadata": {},
   "outputs": [
    {
     "name": "stdout",
     "output_type": "stream",
     "text": [
      "✔️ Теперь у всех строк есть столбец 'Profession' — фильтруй сколько влезет.\n"
     ]
    }
   ],
   "source": [
    "import pandas as pd\n",
    "\n",
    "files = [\n",
    "    ('Marketing_germany_CLEAN.csv', 'Marketing'),\n",
    "    ('techsupport_germany_CLEAN.csv', 'Techsupport'),\n",
    "    ('SysAdm_germany_Big_CLEAN.csv', 'Sysadmin'),\n",
    "    ('basic_qa_manual_tester_germany_CLEAN.csv', 'QA'),\n",
    "    ('Buro_Big_CLEAN.csv', 'Officemanager'),\n",
    "]\n",
    "\n",
    "dfs = []\n",
    "for file, prof in files:\n",
    "    df = pd.read_csv(file)\n",
    "    df['Profession'] = prof    # Новый столбец\n",
    "    dfs.append(df)\n",
    "\n",
    "df_all = pd.concat(dfs, ignore_index=True)\n",
    "df_all.to_csv('ALL_QUANT_FOR_BI_RELABELED.csv', index=False)\n",
    "print(\"✔️ Теперь у всех строк есть столбец 'Profession' — фильтруй сколько влезет.\")\n",
    "\n"
   ]
  },
  {
   "cell_type": "code",
   "execution_count": null,
   "id": "5e04a8bc-5abc-4339-8135-514cd29b6834",
   "metadata": {},
   "outputs": [],
   "source": []
  }
 ],
 "metadata": {
  "kernelspec": {
   "display_name": "Python 3 (ipykernel)",
   "language": "python",
   "name": "python3"
  },
  "language_info": {
   "codemirror_mode": {
    "name": "ipython",
    "version": 3
   },
   "file_extension": ".py",
   "mimetype": "text/x-python",
   "name": "python",
   "nbconvert_exporter": "python",
   "pygments_lexer": "ipython3",
   "version": "3.13.5"
  }
 },
 "nbformat": 4,
 "nbformat_minor": 5
}
