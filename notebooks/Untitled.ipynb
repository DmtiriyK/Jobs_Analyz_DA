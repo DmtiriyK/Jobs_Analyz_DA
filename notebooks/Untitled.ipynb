{
 "cells": [
  {
   "cell_type": "code",
   "execution_count": 2,
   "id": "8bfc6c12-92c3-45f7-b81c-3ec11c857286",
   "metadata": {},
   "outputs": [
    {
     "name": "stdout",
     "output_type": "stream",
     "text": [
      "✔️ Очищено. Осталось строк: 5904\n"
     ]
    }
   ],
   "source": [
    "import pandas as pd\n",
    "import re\n",
    "\n",
    "# Загрузи свой файл\n",
    "df = pd.read_csv('techsupport_germany_Big.csv')\n",
    "\n",
    "# Убираем дубли (по набору полей)\n",
    "df.drop_duplicates(subset=['Title', 'Company', 'Location'], inplace=True)\n",
    "\n",
    "# Убираем строки, где отсутствует что-то важное\n",
    "df = df.dropna(subset=['Title', 'Company', 'Location'])\n",
    "\n",
    "# Чистим Title от мусора (m/w/d, скобки, лишние пробелы)\n",
    "def clean_title(title):\n",
    "    title = re.sub(r'\\(m/w/d\\)', '', title, flags=re.IGNORECASE)\n",
    "    title = re.sub(r'm/w/d', '', title, flags=re.IGNORECASE)\n",
    "    title = re.sub(r'\\(.*?\\)', '', title)        # Любые скобки\n",
    "    title = re.sub(r'[^A-Za-zÄÖÜäöüß0-9\\s\\-]', '', title)  # Убирает спецсимволы кроме дефиса\n",
    "    title = title.strip()\n",
    "    return title\n",
    "\n",
    "df['Title'] = df['Title'].astype(str).apply(clean_title)\n",
    "\n",
    "# Убираем короткие, мусорные тайтлы\n",
    "df = df[df['Title'].str.len() > 5]\n",
    "\n",
    "# (Дополнительно) Фильтр по City — если хочешь оставить только крупные города:\n",
    "# big_cities = ['Munich', 'Berlin', 'Frankfurt', 'Hamburg', 'Cologne', 'Stuttgart', 'Leipzig']\n",
    "# df = df[df['City'].isin(big_cities)]\n",
    "\n",
    "# (Дополнительно) Фильтр по ключевым словам в Title\n",
    "# keywords = ['Marketing', 'Manager', 'Social', 'SEO', 'SEA', 'Brand', 'Content']\n",
    "# df = df[df['Title'].str.contains('|'.join(keywords), case=False, na=False)]\n",
    "\n",
    "# Сохраняем очищенный результат\n",
    "df.to_csv('techsupport_germany_CLEAN.csv', index=False)\n",
    "\n",
    "print(f\"✔️ Очищено. Осталось строк: {len(df)}\")\n"
   ]
  },
  {
   "cell_type": "code",
   "execution_count": null,
   "id": "62563a56-fd42-4ca6-9582-42beb1ae8876",
   "metadata": {},
   "outputs": [],
   "source": []
  }
 ],
 "metadata": {
  "kernelspec": {
   "display_name": "Python 3 (ipykernel)",
   "language": "python",
   "name": "python3"
  },
  "language_info": {
   "codemirror_mode": {
    "name": "ipython",
    "version": 3
   },
   "file_extension": ".py",
   "mimetype": "text/x-python",
   "name": "python",
   "nbconvert_exporter": "python",
   "pygments_lexer": "ipython3",
   "version": "3.13.5"
  }
 },
 "nbformat": 4,
 "nbformat_minor": 5
}
