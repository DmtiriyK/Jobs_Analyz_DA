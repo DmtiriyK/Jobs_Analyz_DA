{
 "cells": [
  {
   "cell_type": "code",
   "execution_count": 6,
   "id": "e5ec0cb3-9bb3-46f1-a070-e8b881701b51",
   "metadata": {},
   "outputs": [],
   "source": [
    "import pandas as pd\n",
    "from glob import glob\n",
    "dfs = []\n",
    "for file in files:\n",
    "    df = pd.read_csv(file)\n",
    "    filename = file.split('/')[-1]\n",
    "    prof = filename.replace('_germany_clean.csv', '')\n",
    "    df['Profession'] = prof\n",
    "    dfs.append(df)\n",
    "\n",
    "df_all = pd.concat(dfs, ignore_index=True)\n",
    "df_all.to_csv('all_skills_wide.csv1', index=False)\n",
    "\n"
   ]
  },
  {
   "cell_type": "code",
   "execution_count": 1,
   "id": "17f635fb-4be2-42f2-b467-6b4b2d43dba7",
   "metadata": {},
   "outputs": [
    {
     "name": "stdout",
     "output_type": "stream",
     "text": [
      "✔️ Склеено и размечено! Теперь BI не перепутает твой маркетинг с саппортом.\n"
     ]
    }
   ],
   "source": [
    "import pandas as pd\n",
    "\n",
    "# Список твоих файлов и как будет называться профессия для каждой таблицы\n",
    "files = [\n",
    "    ('marketing_germany_clean.csv',     'Marketing'),\n",
    "    ('techsupport_germany_clean.csv',   'Techsupport'),\n",
    "    ('sysadmin_germany_clean.csv',        'Sysadmin'),\n",
    "    ('qa_manual_tester_germany_clean.csv', 'QA'),\n",
    "    ('officemanager_germany_clean.csv', 'Officemanager')\n",
    "]\n",
    "\n",
    "dfs = []\n",
    "for file, prof in files:\n",
    "    df = pd.read_csv(file)\n",
    "    df['Profession'] = prof    # Добавляем столбец\n",
    "    dfs.append(df)\n",
    "\n",
    "# Склеиваем всё, сохраняем\n",
    "df_all = pd.concat(dfs, ignore_index=True)\n",
    "df_all.to_csv('ALL_SKILLS_WITH_PROFESSION.csv', index=False)\n",
    "print(\"✔️ Склеено и размечено! Теперь BI не перепутает твой маркетинг с саппортом.\")\n",
    "\n"
   ]
  },
  {
   "cell_type": "code",
   "execution_count": 1,
   "id": "d5e4e4dc-fa27-4939-a4b4-065f373fb72b",
   "metadata": {},
   "outputs": [
    {
     "name": "stderr",
     "output_type": "stream",
     "text": [
      "C:\\Users\\kenih\\AppData\\Local\\Temp\\ipykernel_9980\\2340693307.py:3: DtypeWarning: Columns (10,11,12,13,14,15,16,17,18,19,20,21,22,23,24,25,26,27,28,29,30,31,32,33,34,36,37,38,39,40,41,42,43,44,45,46,47,48,49,50,51,52,53,54,55,56,57,58,59,60,61,62,63,64,65,66,67,68,69,70,71,72,73,74,75,76,77,78,79,80,81,82,83,84,85,86,87,88,89,90,91,92,93,94,95,96,97,98,99,100,101,102,103,104,105,106,107,108,109,110,111,112,113,114,115,116,117,118,119,120,121,122,123,124,125,126,127) have mixed types. Specify dtype option on import or set low_memory=False.\n",
      "  df = pd.read_csv('all_skills_wide.csv')  # твой широкий формат\n"
     ]
    }
   ],
   "source": [
    "import pandas as pd\n",
    "\n",
    "df = pd.read_csv('all_skills_wide.csv')  # твой широкий формат\n",
    "value_vars = [col for col in df.columns if col.startswith('Has_')]\n",
    "\n",
    "df_long = df.melt(\n",
    "    id_vars=[c for c in df.columns if c not in value_vars],\n",
    "    value_vars=value_vars,\n",
    "    var_name='Skill',\n",
    "    value_name='HasSkill'\n",
    ")\n",
    "\n",
    "# Привести название скилла в норму:\n",
    "df_long['Skill'] = df_long['Skill'].str.replace('Has_', '')\n",
    "\n",
    "# Оставить только те строки, где HasSkill == True\n",
    "df_long = df_long[df_long['HasSkill'] == True]\n",
    "\n",
    "df_long.to_csv('all_skills_long.csv', index=False)\n"
   ]
  },
  {
   "cell_type": "code",
   "execution_count": null,
   "id": "876633ae-3dae-4694-ab8f-4dcffc8ef9c0",
   "metadata": {},
   "outputs": [],
   "source": []
  }
 ],
 "metadata": {
  "kernelspec": {
   "display_name": "Python 3 (ipykernel)",
   "language": "python",
   "name": "python3"
  },
  "language_info": {
   "codemirror_mode": {
    "name": "ipython",
    "version": 3
   },
   "file_extension": ".py",
   "mimetype": "text/x-python",
   "name": "python",
   "nbconvert_exporter": "python",
   "pygments_lexer": "ipython3",
   "version": "3.13.5"
  }
 },
 "nbformat": 4,
 "nbformat_minor": 5
}
